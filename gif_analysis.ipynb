{
 "metadata": {
  "language_info": {
   "codemirror_mode": {
    "name": "ipython",
    "version": 3
   },
   "file_extension": ".py",
   "mimetype": "text/x-python",
   "name": "python",
   "nbconvert_exporter": "python",
   "pygments_lexer": "ipython3",
   "version": "3.8.5-final"
  },
  "orig_nbformat": 2,
  "kernelspec": {
   "name": "python3",
   "display_name": "Python 3.8.5 64-bit ('isr-venv')",
   "metadata": {
    "interpreter": {
     "hash": "108546f16c9b7e3de824825900becfa77ce8c5a8f35e96fbc54c14fdb5a00740"
    }
   }
  }
 },
 "nbformat": 4,
 "nbformat_minor": 2,
 "cells": [
  {
   "cell_type": "code",
   "execution_count": 1,
   "metadata": {},
   "outputs": [],
   "source": [
    "%run gif_analyser\n",
    "import glob\n",
    "import pandas as pd\n",
    "import os"
   ]
  },
  {
   "cell_type": "code",
   "execution_count": 2,
   "metadata": {},
   "outputs": [],
   "source": [
    "src_dir = \"gifs\"\n",
    "to_remove = \"out.gif\""
   ]
  },
  {
   "cell_type": "code",
   "execution_count": 3,
   "metadata": {},
   "outputs": [
    {
     "output_type": "execute_result",
     "data": {
      "text/plain": [
       "           Filename  File Size (kB)  Transparency Pixels (%)\n",
       "0      File (1).gif               0                    28.47\n",
       "1     File (10).gif              78                     0.00\n",
       "2    File (100).gif             499                    35.27\n",
       "3    File (101).gif             499                    69.60\n",
       "4    File (102).gif             499                    47.41\n",
       "..              ...             ...                      ...\n",
       "333   File (95).gif             497                     0.00\n",
       "334   File (96).gif             497                     0.00\n",
       "335   File (97).gif             498                     0.00\n",
       "336   File (98).gif             499                    70.64\n",
       "337   File (99).gif             499                     0.00\n",
       "\n",
       "[338 rows x 3 columns]"
      ],
      "text/html": "<div>\n<style scoped>\n    .dataframe tbody tr th:only-of-type {\n        vertical-align: middle;\n    }\n\n    .dataframe tbody tr th {\n        vertical-align: top;\n    }\n\n    .dataframe thead th {\n        text-align: right;\n    }\n</style>\n<table border=\"1\" class=\"dataframe\">\n  <thead>\n    <tr style=\"text-align: right;\">\n      <th></th>\n      <th>Filename</th>\n      <th>File Size (kB)</th>\n      <th>Transparency Pixels (%)</th>\n    </tr>\n  </thead>\n  <tbody>\n    <tr>\n      <th>0</th>\n      <td>File (1).gif</td>\n      <td>0</td>\n      <td>28.47</td>\n    </tr>\n    <tr>\n      <th>1</th>\n      <td>File (10).gif</td>\n      <td>78</td>\n      <td>0.00</td>\n    </tr>\n    <tr>\n      <th>2</th>\n      <td>File (100).gif</td>\n      <td>499</td>\n      <td>35.27</td>\n    </tr>\n    <tr>\n      <th>3</th>\n      <td>File (101).gif</td>\n      <td>499</td>\n      <td>69.60</td>\n    </tr>\n    <tr>\n      <th>4</th>\n      <td>File (102).gif</td>\n      <td>499</td>\n      <td>47.41</td>\n    </tr>\n    <tr>\n      <th>...</th>\n      <td>...</td>\n      <td>...</td>\n      <td>...</td>\n    </tr>\n    <tr>\n      <th>333</th>\n      <td>File (95).gif</td>\n      <td>497</td>\n      <td>0.00</td>\n    </tr>\n    <tr>\n      <th>334</th>\n      <td>File (96).gif</td>\n      <td>497</td>\n      <td>0.00</td>\n    </tr>\n    <tr>\n      <th>335</th>\n      <td>File (97).gif</td>\n      <td>498</td>\n      <td>0.00</td>\n    </tr>\n    <tr>\n      <th>336</th>\n      <td>File (98).gif</td>\n      <td>499</td>\n      <td>70.64</td>\n    </tr>\n    <tr>\n      <th>337</th>\n      <td>File (99).gif</td>\n      <td>499</td>\n      <td>0.00</td>\n    </tr>\n  </tbody>\n</table>\n<p>338 rows × 3 columns</p>\n</div>"
     },
     "metadata": {},
     "execution_count": 3
    }
   ],
   "source": [
    "gif_src = os.path.join(src_dir, \"*.gif\")\n",
    "data_transparency = (\n",
    "    (\n",
    "        get_file_name(file),\n",
    "        os.stat(file).st_size >> 10,\n",
    "        round(transparent_percent(file, \"../magick\"), 2)\n",
    "    ) for file in glob.iglob(gif_src)\n",
    ")\n",
    "df_transparency = pd.DataFrame(\n",
    "    data_transparency,\n",
    "    columns=[\"Filename\", \"File Size (kB)\", \"Transparency Pixels (%)\"]\n",
    ")\n",
    "df_transparency.to_csv(\"transparency_data.csv\", index=False)\n",
    "df_transparency"
   ]
  },
  {
   "cell_type": "code",
   "execution_count": 4,
   "metadata": {},
   "outputs": [
    {
     "output_type": "stream",
     "name": "stdout",
     "text": [
      "Average transparency pixels in all GIF files: 30.51337278106509%\n"
     ]
    }
   ],
   "source": [
    "print(\"Average transparency pixels in all GIF files:\", f\"{df_transparency['Transparency Pixels (%)'].mean()}%\")"
   ]
  },
  {
   "cell_type": "code",
   "execution_count": 5,
   "metadata": {},
   "outputs": [
    {
     "output_type": "execute_result",
     "data": {
      "text/plain": [
       "           Filename  File Size (kB)  Size Gain After Frame Optimization (%)  \\\n",
       "0     File (10).gif              78                             -312.787701   \n",
       "1    File (103).gif             499                                0.019149   \n",
       "2    File (105).gif             502                                0.000000   \n",
       "3    File (109).gif             528                               -3.114860   \n",
       "4     File (11).gif              80                              -19.040240   \n",
       "..              ...             ...                                     ...   \n",
       "96    File (94).gif             497                               -0.315471   \n",
       "97    File (95).gif             497                                1.199089   \n",
       "98    File (96).gif             497                               -0.267498   \n",
       "99    File (97).gif             498                               -3.064263   \n",
       "100   File (99).gif             499                               -1.724209   \n",
       "\n",
       "     Size Gain After Transparency Optimization (%)  \\\n",
       "0                                       -19.180930   \n",
       "1                                       -16.503447   \n",
       "2                                       -12.932327   \n",
       "3                                       -25.050372   \n",
       "4                                        -9.017723   \n",
       "..                                             ...   \n",
       "96                                      -13.259004   \n",
       "97                                      -10.946543   \n",
       "98                                      -19.966465   \n",
       "99                                      -15.643579   \n",
       "100                                     -11.434813   \n",
       "\n",
       "     Size Gain After Frame and Transparency Optimization (%)  \\\n",
       "0                                          -325.122300         \n",
       "1                                           -15.133728         \n",
       "2                                           -12.932327         \n",
       "3                                           -27.815997         \n",
       "4                                           -22.960147         \n",
       "..                                                 ...         \n",
       "96                                          -13.108331         \n",
       "97                                          -12.992094         \n",
       "98                                          -19.966465         \n",
       "99                                          -18.710391         \n",
       "100                                         -11.434813         \n",
       "\n",
       "     Size Gain After Frame, Transparency and LZW Optimization (%)  \n",
       "0                                            11.052468             \n",
       "1                                             0.004494             \n",
       "2                                             1.129178             \n",
       "3                                             0.064270             \n",
       "4                                             0.013317             \n",
       "..                                                 ...             \n",
       "96                                            0.024916             \n",
       "97                                            2.953596             \n",
       "98                                            0.002942             \n",
       "99                                            0.000000             \n",
       "100                                           0.195968             \n",
       "\n",
       "[101 rows x 6 columns]"
      ],
      "text/html": "<div>\n<style scoped>\n    .dataframe tbody tr th:only-of-type {\n        vertical-align: middle;\n    }\n\n    .dataframe tbody tr th {\n        vertical-align: top;\n    }\n\n    .dataframe thead th {\n        text-align: right;\n    }\n</style>\n<table border=\"1\" class=\"dataframe\">\n  <thead>\n    <tr style=\"text-align: right;\">\n      <th></th>\n      <th>Filename</th>\n      <th>File Size (kB)</th>\n      <th>Size Gain After Frame Optimization (%)</th>\n      <th>Size Gain After Transparency Optimization (%)</th>\n      <th>Size Gain After Frame and Transparency Optimization (%)</th>\n      <th>Size Gain After Frame, Transparency and LZW Optimization (%)</th>\n    </tr>\n  </thead>\n  <tbody>\n    <tr>\n      <th>0</th>\n      <td>File (10).gif</td>\n      <td>78</td>\n      <td>-312.787701</td>\n      <td>-19.180930</td>\n      <td>-325.122300</td>\n      <td>11.052468</td>\n    </tr>\n    <tr>\n      <th>1</th>\n      <td>File (103).gif</td>\n      <td>499</td>\n      <td>0.019149</td>\n      <td>-16.503447</td>\n      <td>-15.133728</td>\n      <td>0.004494</td>\n    </tr>\n    <tr>\n      <th>2</th>\n      <td>File (105).gif</td>\n      <td>502</td>\n      <td>0.000000</td>\n      <td>-12.932327</td>\n      <td>-12.932327</td>\n      <td>1.129178</td>\n    </tr>\n    <tr>\n      <th>3</th>\n      <td>File (109).gif</td>\n      <td>528</td>\n      <td>-3.114860</td>\n      <td>-25.050372</td>\n      <td>-27.815997</td>\n      <td>0.064270</td>\n    </tr>\n    <tr>\n      <th>4</th>\n      <td>File (11).gif</td>\n      <td>80</td>\n      <td>-19.040240</td>\n      <td>-9.017723</td>\n      <td>-22.960147</td>\n      <td>0.013317</td>\n    </tr>\n    <tr>\n      <th>...</th>\n      <td>...</td>\n      <td>...</td>\n      <td>...</td>\n      <td>...</td>\n      <td>...</td>\n      <td>...</td>\n    </tr>\n    <tr>\n      <th>96</th>\n      <td>File (94).gif</td>\n      <td>497</td>\n      <td>-0.315471</td>\n      <td>-13.259004</td>\n      <td>-13.108331</td>\n      <td>0.024916</td>\n    </tr>\n    <tr>\n      <th>97</th>\n      <td>File (95).gif</td>\n      <td>497</td>\n      <td>1.199089</td>\n      <td>-10.946543</td>\n      <td>-12.992094</td>\n      <td>2.953596</td>\n    </tr>\n    <tr>\n      <th>98</th>\n      <td>File (96).gif</td>\n      <td>497</td>\n      <td>-0.267498</td>\n      <td>-19.966465</td>\n      <td>-19.966465</td>\n      <td>0.002942</td>\n    </tr>\n    <tr>\n      <th>99</th>\n      <td>File (97).gif</td>\n      <td>498</td>\n      <td>-3.064263</td>\n      <td>-15.643579</td>\n      <td>-18.710391</td>\n      <td>0.000000</td>\n    </tr>\n    <tr>\n      <th>100</th>\n      <td>File (99).gif</td>\n      <td>499</td>\n      <td>-1.724209</td>\n      <td>-11.434813</td>\n      <td>-11.434813</td>\n      <td>0.195968</td>\n    </tr>\n  </tbody>\n</table>\n<p>101 rows × 6 columns</p>\n</div>"
     },
     "metadata": {},
     "execution_count": 5
    }
   ],
   "source": [
    "no_transparent = df_transparency.loc[df_transparency[\"Transparency Pixels (%)\"] == 0][\"Filename\"]\n",
    "data_compression = (compression_stats(os.path.join(src_dir, file), to_remove) for file in no_transparent)\n",
    "columns = [\n",
    "    \"Filename\",\n",
    "    \"File Size (kB)\",\n",
    "    \"Size Gain After Frame Optimization (%)\",\n",
    "    \"Size Gain After Transparency Optimization (%)\",\n",
    "    \"Size Gain After Frame and Transparency Optimization (%)\",\n",
    "    \"Size Gain After Frame, Transparency and LZW Optimization (%)\"\n",
    "]\n",
    "df_compression = pd.DataFrame(data_compression, columns=columns)\n",
    "df_compression.to_csv(\"compresion_data.csv\", index=False)\n",
    "df_compression"
   ]
  },
  {
   "cell_type": "code",
   "execution_count": 6,
   "metadata": {},
   "outputs": [
    {
     "output_type": "stream",
     "name": "stdout",
     "text": [
      "Average Size Gain After Optimization\n"
     ]
    },
    {
     "output_type": "execute_result",
     "data": {
      "text/plain": [
       "Size Gain After Frame Optimization (%)                          -6.771440\n",
       "Size Gain After Transparency Optimization (%)                  -10.545968\n",
       "Size Gain After Frame and Transparency Optimization (%)        -14.654900\n",
       "Size Gain After Frame, Transparency and LZW Optimization (%)     3.213466\n",
       "dtype: float64"
      ]
     },
     "metadata": {},
     "execution_count": 6
    }
   ],
   "source": [
    "print(\"Average Size Gain After Optimization\")\n",
    "df_compression[columns[2:]].mean()"
   ]
  },
  {
   "cell_type": "code",
   "execution_count": 7,
   "metadata": {},
   "outputs": [],
   "source": [
    "os.remove(to_remove)"
   ]
  }
 ]
}